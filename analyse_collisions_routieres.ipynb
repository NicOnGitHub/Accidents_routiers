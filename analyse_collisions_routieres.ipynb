{
 "cells": [
  {
   "cell_type": "markdown",
   "id": "474bd206",
   "metadata": {},
   "source": [
    "# Y a-t-il un lien entre le jour de la semaine et le nombre d'accidents routiers?\n",
    "La ville de Montréal offre une base de données libre d'accès contenant l'ensemble des collisions routières rapportées par la police sur son territoire depuis 2012."
   ]
  },
  {
   "cell_type": "code",
   "execution_count": 1,
   "id": "88138d9b",
   "metadata": {},
   "outputs": [],
   "source": [
    "# Importer les modules\n",
    "import pandas\n",
    "import matplotlib.pyplot as plt"
   ]
  },
  {
   "cell_type": "code",
   "execution_count": 2,
   "id": "fd50b3dd",
   "metadata": {},
   "outputs": [
    {
     "data": {
      "text/html": [
       "<div>\n",
       "<style scoped>\n",
       "    .dataframe tbody tr th:only-of-type {\n",
       "        vertical-align: middle;\n",
       "    }\n",
       "\n",
       "    .dataframe tbody tr th {\n",
       "        vertical-align: top;\n",
       "    }\n",
       "\n",
       "    .dataframe thead th {\n",
       "        text-align: right;\n",
       "    }\n",
       "</style>\n",
       "<table border=\"1\" class=\"dataframe\">\n",
       "  <thead>\n",
       "    <tr style=\"text-align: right;\">\n",
       "      <th></th>\n",
       "      <th>NO_SEQ_COLL</th>\n",
       "      <th>JR_SEMN_ACCDN</th>\n",
       "      <th>DT_ACCDN</th>\n",
       "      <th>CD_MUNCP</th>\n",
       "      <th>NO_CIVIQ_ACCDN</th>\n",
       "      <th>SFX_NO_CIVIQ_ACCDN</th>\n",
       "      <th>BORNE_KM_ACCDN</th>\n",
       "      <th>RUE_ACCDN</th>\n",
       "      <th>TP_REPRR_ACCDN</th>\n",
       "      <th>ACCDN_PRES_DE</th>\n",
       "      <th>...</th>\n",
       "      <th>NB_VICTIMES_VELO</th>\n",
       "      <th>VITESSE_AUTOR</th>\n",
       "      <th>LOC_X</th>\n",
       "      <th>LOC_Y</th>\n",
       "      <th>LOC_COTE_QD</th>\n",
       "      <th>LOC_COTE_PD</th>\n",
       "      <th>LOC_DETACHEE</th>\n",
       "      <th>LOC_IMPRECISION</th>\n",
       "      <th>LOC_LAT</th>\n",
       "      <th>LOC_LONG</th>\n",
       "    </tr>\n",
       "  </thead>\n",
       "  <tbody>\n",
       "    <tr>\n",
       "      <th>0</th>\n",
       "      <td>SPVM _ 2012 _ 1</td>\n",
       "      <td>ME</td>\n",
       "      <td>2012-02-01</td>\n",
       "      <td>66102.0</td>\n",
       "      <td>3501.0</td>\n",
       "      <td>NaN</td>\n",
       "      <td>NaN</td>\n",
       "      <td>ST CHARLES</td>\n",
       "      <td>2.0</td>\n",
       "      <td>STAT</td>\n",
       "      <td>...</td>\n",
       "      <td>0</td>\n",
       "      <td>NaN</td>\n",
       "      <td>276517.37950</td>\n",
       "      <td>5.035127e+06</td>\n",
       "      <td>A</td>\n",
       "      <td>3</td>\n",
       "      <td>O</td>\n",
       "      <td>N</td>\n",
       "      <td>45.45550</td>\n",
       "      <td>-73.86162</td>\n",
       "    </tr>\n",
       "    <tr>\n",
       "      <th>1</th>\n",
       "      <td>SPVM _ 2012 _ 2</td>\n",
       "      <td>SA</td>\n",
       "      <td>2012-06-02</td>\n",
       "      <td>66023.0</td>\n",
       "      <td>NaN</td>\n",
       "      <td>NaN</td>\n",
       "      <td>NaN</td>\n",
       "      <td>NaN</td>\n",
       "      <td>NaN</td>\n",
       "      <td>COTE VERTU ET AUT 40</td>\n",
       "      <td>...</td>\n",
       "      <td>0</td>\n",
       "      <td>NaN</td>\n",
       "      <td>287913.26000</td>\n",
       "      <td>5.038666e+06</td>\n",
       "      <td>A</td>\n",
       "      <td>3</td>\n",
       "      <td>N</td>\n",
       "      <td>O</td>\n",
       "      <td>45.48772</td>\n",
       "      <td>-73.71603</td>\n",
       "    </tr>\n",
       "    <tr>\n",
       "      <th>2</th>\n",
       "      <td>SPVM _ 2012 _ 3</td>\n",
       "      <td>JE</td>\n",
       "      <td>2012-06-28</td>\n",
       "      <td>66023.0</td>\n",
       "      <td>NaN</td>\n",
       "      <td>NaN</td>\n",
       "      <td>NaN</td>\n",
       "      <td>COTE VERTU</td>\n",
       "      <td>1.0</td>\n",
       "      <td>DECARIE</td>\n",
       "      <td>...</td>\n",
       "      <td>0</td>\n",
       "      <td>50.0</td>\n",
       "      <td>290518.82501</td>\n",
       "      <td>5.041617e+06</td>\n",
       "      <td>A</td>\n",
       "      <td>1</td>\n",
       "      <td>N</td>\n",
       "      <td>N</td>\n",
       "      <td>45.51432</td>\n",
       "      <td>-73.68279</td>\n",
       "    </tr>\n",
       "    <tr>\n",
       "      <th>3</th>\n",
       "      <td>SPVM _ 2012 _ 4</td>\n",
       "      <td>ME</td>\n",
       "      <td>2012-07-11</td>\n",
       "      <td>66023.0</td>\n",
       "      <td>NaN</td>\n",
       "      <td>NaN</td>\n",
       "      <td>NaN</td>\n",
       "      <td>ST MATHIEU</td>\n",
       "      <td>1.0</td>\n",
       "      <td>RENE LEVESQUE</td>\n",
       "      <td>...</td>\n",
       "      <td>0</td>\n",
       "      <td>50.0</td>\n",
       "      <td>298822.88600</td>\n",
       "      <td>5.039146e+06</td>\n",
       "      <td>A</td>\n",
       "      <td>3</td>\n",
       "      <td>N</td>\n",
       "      <td>N</td>\n",
       "      <td>45.49221</td>\n",
       "      <td>-73.57647</td>\n",
       "    </tr>\n",
       "    <tr>\n",
       "      <th>4</th>\n",
       "      <td>SPVM _ 2012 _ 5</td>\n",
       "      <td>LU</td>\n",
       "      <td>2012-01-02</td>\n",
       "      <td>66023.0</td>\n",
       "      <td>4849.0</td>\n",
       "      <td>NaN</td>\n",
       "      <td>NaN</td>\n",
       "      <td>ST JEAN</td>\n",
       "      <td>NaN</td>\n",
       "      <td>NaN</td>\n",
       "      <td>...</td>\n",
       "      <td>0</td>\n",
       "      <td>NaN</td>\n",
       "      <td>277433.35738</td>\n",
       "      <td>5.038881e+06</td>\n",
       "      <td>A</td>\n",
       "      <td>1</td>\n",
       "      <td>O</td>\n",
       "      <td>N</td>\n",
       "      <td>45.48932</td>\n",
       "      <td>-73.85011</td>\n",
       "    </tr>\n",
       "  </tbody>\n",
       "</table>\n",
       "<p>5 rows × 68 columns</p>\n",
       "</div>"
      ],
      "text/plain": [
       "       NO_SEQ_COLL JR_SEMN_ACCDN   DT_ACCDN  CD_MUNCP  NO_CIVIQ_ACCDN  \\\n",
       "0  SPVM _ 2012 _ 1            ME 2012-02-01   66102.0          3501.0   \n",
       "1  SPVM _ 2012 _ 2            SA 2012-06-02   66023.0             NaN   \n",
       "2  SPVM _ 2012 _ 3            JE 2012-06-28   66023.0             NaN   \n",
       "3  SPVM _ 2012 _ 4            ME 2012-07-11   66023.0             NaN   \n",
       "4  SPVM _ 2012 _ 5            LU 2012-01-02   66023.0          4849.0   \n",
       "\n",
       "  SFX_NO_CIVIQ_ACCDN  BORNE_KM_ACCDN   RUE_ACCDN  TP_REPRR_ACCDN  \\\n",
       "0                NaN             NaN  ST CHARLES             2.0   \n",
       "1                NaN             NaN         NaN             NaN   \n",
       "2                NaN             NaN  COTE VERTU             1.0   \n",
       "3                NaN             NaN  ST MATHIEU             1.0   \n",
       "4                NaN             NaN     ST JEAN             NaN   \n",
       "\n",
       "          ACCDN_PRES_DE  ...  NB_VICTIMES_VELO  VITESSE_AUTOR         LOC_X  \\\n",
       "0                  STAT  ...                 0            NaN  276517.37950   \n",
       "1  COTE VERTU ET AUT 40  ...                 0            NaN  287913.26000   \n",
       "2               DECARIE  ...                 0           50.0  290518.82501   \n",
       "3         RENE LEVESQUE  ...                 0           50.0  298822.88600   \n",
       "4                   NaN  ...                 0            NaN  277433.35738   \n",
       "\n",
       "          LOC_Y  LOC_COTE_QD  LOC_COTE_PD  LOC_DETACHEE  LOC_IMPRECISION  \\\n",
       "0  5.035127e+06            A            3             O                N   \n",
       "1  5.038666e+06            A            3             N                O   \n",
       "2  5.041617e+06            A            1             N                N   \n",
       "3  5.039146e+06            A            3             N                N   \n",
       "4  5.038881e+06            A            1             O                N   \n",
       "\n",
       "    LOC_LAT  LOC_LONG  \n",
       "0  45.45550 -73.86162  \n",
       "1  45.48772 -73.71603  \n",
       "2  45.51432 -73.68279  \n",
       "3  45.49221 -73.57647  \n",
       "4  45.48932 -73.85011  \n",
       "\n",
       "[5 rows x 68 columns]"
      ]
     },
     "execution_count": 2,
     "metadata": {},
     "output_type": "execute_result"
    }
   ],
   "source": [
    "# Ouvrir le fichier csv\n",
    "dataset = pandas.read_csv(\"collisions_routieres.csv\", delimiter=\",\", parse_dates=[\"DT_ACCDN\"])\n",
    "dataset.head(5)"
   ]
  },
  {
   "cell_type": "markdown",
   "id": "889f835d",
   "metadata": {},
   "source": [
    "## Préparation des données\n",
    "\n",
    "La majorité des colonnes du dataset ne nous intéresse pas. Nous allons uniquement garder les colonnes de date et de jour de la semaine.\n",
    "\n",
    "De plus, nous nous intéressons uniquement aux accidents ayant une gravité autre que \"dommages matériels inférieurs au seuil de rapportage\", étant donné qu'ils ne sont pas inclus dans le bilan routier."
   ]
  },
  {
   "cell_type": "code",
   "execution_count": 3,
   "id": "cfe83ea9",
   "metadata": {},
   "outputs": [
    {
     "data": {
      "text/html": [
       "<div>\n",
       "<style scoped>\n",
       "    .dataframe tbody tr th:only-of-type {\n",
       "        vertical-align: middle;\n",
       "    }\n",
       "\n",
       "    .dataframe tbody tr th {\n",
       "        vertical-align: top;\n",
       "    }\n",
       "\n",
       "    .dataframe thead th {\n",
       "        text-align: right;\n",
       "    }\n",
       "</style>\n",
       "<table border=\"1\" class=\"dataframe\">\n",
       "  <thead>\n",
       "    <tr style=\"text-align: right;\">\n",
       "      <th></th>\n",
       "      <th>DT_ACCDN</th>\n",
       "      <th>JR_SEMN_ACCDN</th>\n",
       "    </tr>\n",
       "  </thead>\n",
       "  <tbody>\n",
       "    <tr>\n",
       "      <th>1</th>\n",
       "      <td>2012-06-02</td>\n",
       "      <td>SA</td>\n",
       "    </tr>\n",
       "    <tr>\n",
       "      <th>4</th>\n",
       "      <td>2012-01-02</td>\n",
       "      <td>LU</td>\n",
       "    </tr>\n",
       "    <tr>\n",
       "      <th>5</th>\n",
       "      <td>2012-01-02</td>\n",
       "      <td>LU</td>\n",
       "    </tr>\n",
       "    <tr>\n",
       "      <th>6</th>\n",
       "      <td>2012-01-03</td>\n",
       "      <td>MA</td>\n",
       "    </tr>\n",
       "    <tr>\n",
       "      <th>7</th>\n",
       "      <td>2012-01-02</td>\n",
       "      <td>LU</td>\n",
       "    </tr>\n",
       "  </tbody>\n",
       "</table>\n",
       "</div>"
      ],
      "text/plain": [
       "    DT_ACCDN JR_SEMN_ACCDN\n",
       "1 2012-06-02            SA\n",
       "4 2012-01-02            LU\n",
       "5 2012-01-02            LU\n",
       "6 2012-01-03            MA\n",
       "7 2012-01-02            LU"
      ]
     },
     "execution_count": 3,
     "metadata": {},
     "output_type": "execute_result"
    }
   ],
   "source": [
    "filtered_data = dataset.loc[dataset[\"GRAVITE\"] != \"Dommages matériels inférieurs au seuil de rapportage\", [\"DT_ACCDN\", \"JR_SEMN_ACCDN\"]]\n",
    "filtered_data.head(5)"
   ]
  },
  {
   "cell_type": "markdown",
   "id": "bece1728",
   "metadata": {},
   "source": [
    "Le dataset est beaucoup mieux. Nous allons toutefois modifier le nom des colonnes pour qu'elles soient davantage significatives."
   ]
  },
  {
   "cell_type": "code",
   "execution_count": 4,
   "id": "cbb3a70e",
   "metadata": {},
   "outputs": [
    {
     "data": {
      "text/html": [
       "<div>\n",
       "<style scoped>\n",
       "    .dataframe tbody tr th:only-of-type {\n",
       "        vertical-align: middle;\n",
       "    }\n",
       "\n",
       "    .dataframe tbody tr th {\n",
       "        vertical-align: top;\n",
       "    }\n",
       "\n",
       "    .dataframe thead th {\n",
       "        text-align: right;\n",
       "    }\n",
       "</style>\n",
       "<table border=\"1\" class=\"dataframe\">\n",
       "  <thead>\n",
       "    <tr style=\"text-align: right;\">\n",
       "      <th></th>\n",
       "      <th>Date</th>\n",
       "      <th>Jour_de_la_semaine</th>\n",
       "    </tr>\n",
       "  </thead>\n",
       "  <tbody>\n",
       "    <tr>\n",
       "      <th>1</th>\n",
       "      <td>2012-06-02</td>\n",
       "      <td>SA</td>\n",
       "    </tr>\n",
       "    <tr>\n",
       "      <th>4</th>\n",
       "      <td>2012-01-02</td>\n",
       "      <td>LU</td>\n",
       "    </tr>\n",
       "    <tr>\n",
       "      <th>5</th>\n",
       "      <td>2012-01-02</td>\n",
       "      <td>LU</td>\n",
       "    </tr>\n",
       "    <tr>\n",
       "      <th>6</th>\n",
       "      <td>2012-01-03</td>\n",
       "      <td>MA</td>\n",
       "    </tr>\n",
       "    <tr>\n",
       "      <th>7</th>\n",
       "      <td>2012-01-02</td>\n",
       "      <td>LU</td>\n",
       "    </tr>\n",
       "  </tbody>\n",
       "</table>\n",
       "</div>"
      ],
      "text/plain": [
       "        Date Jour_de_la_semaine\n",
       "1 2012-06-02                 SA\n",
       "4 2012-01-02                 LU\n",
       "5 2012-01-02                 LU\n",
       "6 2012-01-03                 MA\n",
       "7 2012-01-02                 LU"
      ]
     },
     "execution_count": 4,
     "metadata": {},
     "output_type": "execute_result"
    }
   ],
   "source": [
    "filtered_data.columns = [\"Date\", \"Jour_de_la_semaine\"]\n",
    "filtered_data.head(5)"
   ]
  },
  {
   "cell_type": "markdown",
   "id": "fb75b4dd",
   "metadata": {},
   "source": [
    "Maintenant que le dataset est prêt, nous allons calculer le nombre total d'accidents par jour, selon le jour de la semaine."
   ]
  },
  {
   "cell_type": "code",
   "execution_count": 5,
   "id": "76ee50ff",
   "metadata": {},
   "outputs": [
    {
     "data": {
      "text/plain": [
       "Jour_de_la_semaine\n",
       "DI    12660\n",
       "JE    17683\n",
       "LU    15500\n",
       "MA    16555\n",
       "ME    16840\n",
       "SA    14913\n",
       "VE    18101\n",
       "dtype: int64"
      ]
     },
     "execution_count": 5,
     "metadata": {},
     "output_type": "execute_result"
    }
   ],
   "source": [
    "total_accidents_per_weekday = filtered_data.groupby(filtered_data[\"Jour_de_la_semaine\"]).size()\n",
    "total_accidents_per_weekday"
   ]
  },
  {
   "cell_type": "markdown",
   "id": "972b2175",
   "metadata": {},
   "source": [
    "On commence déjà à voir une variation dans le nombre d'accidents selon le jour de la semaine.\n",
    "Or, ces données ne parlent pas suffisamment aux gens. Nous allons donc plutôt calculer le nombre moyen d'accidents par jour de la semaine."
   ]
  },
  {
   "cell_type": "code",
   "execution_count": 6,
   "id": "d059d817",
   "metadata": {},
   "outputs": [
    {
     "data": {
      "text/html": [
       "<div>\n",
       "<style scoped>\n",
       "    .dataframe tbody tr th:only-of-type {\n",
       "        vertical-align: middle;\n",
       "    }\n",
       "\n",
       "    .dataframe tbody tr th {\n",
       "        vertical-align: top;\n",
       "    }\n",
       "\n",
       "    .dataframe thead th {\n",
       "        text-align: right;\n",
       "    }\n",
       "</style>\n",
       "<table border=\"1\" class=\"dataframe\">\n",
       "  <thead>\n",
       "    <tr style=\"text-align: right;\">\n",
       "      <th></th>\n",
       "      <th>Jour_de_la_semaine</th>\n",
       "      <th>Nombre_accidents</th>\n",
       "    </tr>\n",
       "  </thead>\n",
       "  <tbody>\n",
       "    <tr>\n",
       "      <th>0</th>\n",
       "      <td>DI</td>\n",
       "      <td>30.287081</td>\n",
       "    </tr>\n",
       "    <tr>\n",
       "      <th>1</th>\n",
       "      <td>JE</td>\n",
       "      <td>42.405276</td>\n",
       "    </tr>\n",
       "    <tr>\n",
       "      <th>2</th>\n",
       "      <td>LU</td>\n",
       "      <td>37.081340</td>\n",
       "    </tr>\n",
       "    <tr>\n",
       "      <th>3</th>\n",
       "      <td>MA</td>\n",
       "      <td>39.605263</td>\n",
       "    </tr>\n",
       "    <tr>\n",
       "      <th>4</th>\n",
       "      <td>ME</td>\n",
       "      <td>40.383693</td>\n",
       "    </tr>\n",
       "    <tr>\n",
       "      <th>5</th>\n",
       "      <td>SA</td>\n",
       "      <td>35.762590</td>\n",
       "    </tr>\n",
       "    <tr>\n",
       "      <th>6</th>\n",
       "      <td>VE</td>\n",
       "      <td>43.407674</td>\n",
       "    </tr>\n",
       "  </tbody>\n",
       "</table>\n",
       "</div>"
      ],
      "text/plain": [
       "  Jour_de_la_semaine  Nombre_accidents\n",
       "0                 DI         30.287081\n",
       "1                 JE         42.405276\n",
       "2                 LU         37.081340\n",
       "3                 MA         39.605263\n",
       "4                 ME         40.383693\n",
       "5                 SA         35.762590\n",
       "6                 VE         43.407674"
      ]
     },
     "execution_count": 6,
     "metadata": {},
     "output_type": "execute_result"
    }
   ],
   "source": [
    "# Calculer le nombre d'occurence des jours de la semaine dans le fichier csv\n",
    "count_of_weekday = filtered_data.groupby(filtered_data[\"Jour_de_la_semaine\"]).Date.nunique()\n",
    "\n",
    "# Calculer le nombre d'accident moyen par jours de la semaine\n",
    "average_accidents_per_weekday = total_accidents_per_weekday.divide(count_of_weekday)\n",
    "\n",
    "# Transformer le résultat en dataframe\n",
    "dataframe_average_accidents_per_weekday = average_accidents_per_weekday.reset_index(name='Nombre_accidents')\n",
    "dataframe_average_accidents_per_weekday"
   ]
  },
  {
   "cell_type": "markdown",
   "id": "fc48ecbf",
   "metadata": {},
   "source": [
    "Ces chiffres sont beaucoup plus significatifs et soulèvent davantage les écarts entre chaque jour de la semaine.\n",
    "\n",
    "Les jours de la semaine sont toutefois désordonnés. Nous allons donc trier les lignes du dataframe pour les mettre en ordre."
   ]
  },
  {
   "cell_type": "code",
   "execution_count": 7,
   "id": "8afb4696",
   "metadata": {
    "scrolled": true
   },
   "outputs": [
    {
     "data": {
      "text/html": [
       "<div>\n",
       "<style scoped>\n",
       "    .dataframe tbody tr th:only-of-type {\n",
       "        vertical-align: middle;\n",
       "    }\n",
       "\n",
       "    .dataframe tbody tr th {\n",
       "        vertical-align: top;\n",
       "    }\n",
       "\n",
       "    .dataframe thead th {\n",
       "        text-align: right;\n",
       "    }\n",
       "</style>\n",
       "<table border=\"1\" class=\"dataframe\">\n",
       "  <thead>\n",
       "    <tr style=\"text-align: right;\">\n",
       "      <th></th>\n",
       "      <th>Nombre_accidents</th>\n",
       "    </tr>\n",
       "    <tr>\n",
       "      <th>Jour_de_la_semaine</th>\n",
       "      <th></th>\n",
       "    </tr>\n",
       "  </thead>\n",
       "  <tbody>\n",
       "    <tr>\n",
       "      <th>DI</th>\n",
       "      <td>30.287081</td>\n",
       "    </tr>\n",
       "    <tr>\n",
       "      <th>LU</th>\n",
       "      <td>37.081340</td>\n",
       "    </tr>\n",
       "    <tr>\n",
       "      <th>MA</th>\n",
       "      <td>39.605263</td>\n",
       "    </tr>\n",
       "    <tr>\n",
       "      <th>ME</th>\n",
       "      <td>40.383693</td>\n",
       "    </tr>\n",
       "    <tr>\n",
       "      <th>JE</th>\n",
       "      <td>42.405276</td>\n",
       "    </tr>\n",
       "    <tr>\n",
       "      <th>VE</th>\n",
       "      <td>43.407674</td>\n",
       "    </tr>\n",
       "    <tr>\n",
       "      <th>SA</th>\n",
       "      <td>35.762590</td>\n",
       "    </tr>\n",
       "  </tbody>\n",
       "</table>\n",
       "</div>"
      ],
      "text/plain": [
       "                    Nombre_accidents\n",
       "Jour_de_la_semaine                  \n",
       "DI                         30.287081\n",
       "LU                         37.081340\n",
       "MA                         39.605263\n",
       "ME                         40.383693\n",
       "JE                         42.405276\n",
       "VE                         43.407674\n",
       "SA                         35.762590"
      ]
     },
     "execution_count": 7,
     "metadata": {},
     "output_type": "execute_result"
    }
   ],
   "source": [
    "# Établir l'ordre souhaité\n",
    "day_order = [\"DI\", \"LU\", \"MA\", \"ME\", \"JE\", \"VE\", \"SA\"]\n",
    "\n",
    "# Changer l'ordre des lignes selon l'ordre établit\n",
    "dataframe_average_accidents_per_weekday[\"Jour_de_la_semaine\"] = pandas.Categorical(dataframe_average_accidents_per_weekday[\"Jour_de_la_semaine\"], day_order)\n",
    "sorted_average_accidents_per_weekday = dataframe_average_accidents_per_weekday.sort_values(\"Jour_de_la_semaine\").set_index(\"Jour_de_la_semaine\")\n",
    "sorted_average_accidents_per_weekday"
   ]
  },
  {
   "cell_type": "markdown",
   "id": "00d6507b",
   "metadata": {},
   "source": [
    "Les abréviations pour les jours de la semaine sont suffisantes pour l'affichage dans un tableau.\n",
    "Or, pour faire des analyses il serait bénéfique d'avoir l'option d'afficher le nom complet du jour de la semaine."
   ]
  },
  {
   "cell_type": "code",
   "execution_count": 8,
   "id": "807dea02",
   "metadata": {},
   "outputs": [],
   "source": [
    "renamed_average_accidents_per_weekday = average_accidents_per_weekday.rename({\"DI\": \"Dimanche\", \"LU\": \"Lundi\", \"MA\": \"Mardi\", \"ME\": \"Mercredi\", \"JE\": \"Jeudi\", \"VE\": \"Vendredi\", \"SA\": \"Samedi\"})"
   ]
  },
  {
   "cell_type": "markdown",
   "id": "5db4f7ed",
   "metadata": {},
   "source": [
    "## Statistiques\n",
    "Nous sommes maintenant prêt à calculer des statistiques, afin de relever les écarts entre le nombre d'accidents moyen par jour pour chaque jour de la semaine."
   ]
  },
  {
   "cell_type": "code",
   "execution_count": 9,
   "id": "7a13aa6d",
   "metadata": {
    "scrolled": true
   },
   "outputs": [
    {
     "name": "stdout",
     "output_type": "stream",
     "text": [
      "La journée avec le moins de collisions routières par jour est le dimanche avec 30.29 collisions \n",
      "La journée avec le plus de collisions routières par jour est le vendredi avec 43.41 collisions \n",
      "Le vendredi a 43.32 % plus de collisions par jour que dimanche , soit un écart de 13.12 collisions par jour \n",
      "La moyenne est de 38.42 collisions par jour \n",
      "L'écart type est de 4.49 collisions par jour\n"
     ]
    }
   ],
   "source": [
    "# Calcul de l'écart-type\n",
    "ecart_type = average_accidents_per_weekday.std()\n",
    "\n",
    "# Calcul de la moyenne\n",
    "moyenne = average_accidents_per_weekday.mean()\n",
    "\n",
    "# Calcul de la valeur minimale et de la journée y correspondant\n",
    "valeur_min = average_accidents_per_weekday.min()\n",
    "jour_min = renamed_average_accidents_per_weekday.idxmin()\n",
    "\n",
    "# Calcul de la valeur maximale et de la journée y correspondant\n",
    "valeur_max = average_accidents_per_weekday.max()\n",
    "jour_max = renamed_average_accidents_per_weekday.idxmax()\n",
    "\n",
    "# Calcul de l'écart entre la valeur maximale et minimale, en nombre d'accidents et en pourcentage\n",
    "ecart_min_max = valeur_max - valeur_min\n",
    "ecart_min_max_pourcentage = (ecart_min_max / valeur_min) * 100\n",
    "\n",
    "# Impression des statistiques\n",
    "print(\"La journée avec le moins de collisions routières par jour est le\", jour_min.lower(), \"avec\", round(valeur_min, 2), \"collisions\",\n",
    "      \"\\n\" \"La journée avec le plus de collisions routières par jour est le\", jour_max.lower(), \"avec\", round(valeur_max, 2), \"collisions\",\n",
    "      \"\\n\" \"Le\", jour_max.lower(), \"a\", round(ecart_min_max_pourcentage, 2), \"% plus de collisions par jour que\", jour_min.lower(), \", soit un écart de\", round(ecart_min_max, 2), \"collisions par jour\",\n",
    "      \"\\n\" \"La moyenne est de\", round(moyenne, 2), \"collisions par jour\",\n",
    "      \"\\n\" \"L'écart type est de\", round(ecart_type, 2), \"collisions par jour\")"
   ]
  },
  {
   "cell_type": "markdown",
   "id": "a3a2ddbb",
   "metadata": {},
   "source": [
    "## Graphique\n",
    "Afin de mieux relever les écarts entre le nombre d'accidents moyen quotidien pour chaque jour de la semaine, nous allons afficher les résultats sous la forme d'un graphique à barres."
   ]
  },
  {
   "cell_type": "code",
   "execution_count": 10,
   "id": "326bca8c",
   "metadata": {},
   "outputs": [
    {
     "data": {
      "image/png": "[encoded data removed]",
      "text/plain": [
       "<Figure size 432x288 with 1 Axes>"
      ]
     },
     "metadata": {
      "needs_background": "light"
     },
     "output_type": "display_data"
    }
   ],
   "source": [
    "sorted_average_accidents_per_weekday.plot(kind=\"bar\", legend=False)\n",
    "\n",
    "# Déclarer le nom des axes et le titre du graphique\n",
    "plt.xlabel(\"Jour de la semaine\")\n",
    "plt.ylabel(\"Nombre d'accidents moyen par jour\")\n",
    "plt.title(\"Nombre d'accidents moyen par jour de la semaine\")\n",
    "\n",
    "# Modifier la rotation des valeurs de l'axe des x\n",
    "plt.xticks(rotation=\"0\")\n",
    "\n",
    "# Modifier la taille de l'axe des y\n",
    "plt.gca().set_ylim([0,valeur_max+5])\n",
    "\n",
    "# Pour afficher les valeurs pour chaque jour de la semaine :\n",
    "# Créer une variable déclarant la position des étiquettes de données. L'intitier à -0.275, soit la position sur l'axe des x de la première colonne du tableau\n",
    "position_index = -0.275\n",
    "# Pour toutes les valeurs du dataframe\n",
    "for value in sorted_average_accidents_per_weekday[\"Nombre_accidents\"]:\n",
    "    # Écrire la valeur dans le graphique\n",
    "    plt.text(position_index, value+0.75, str(round(value, 2)), color=\"black\", size=9)\n",
    "    # Incrémenter l'index de positionnement, pour écrire la prochaine valeur au dessus de la colonne correspondante\n",
    "    position_index += 1\n",
    "\n",
    "# Afficher une ligne montrant la moyenne et annoter le graphique pour expliquer ce que représente la ligne\n",
    "plt.axhline(moyenne, color=\"red\", linestyle=\"--\")\n",
    "plt.annotate(\"Moyenne = %s\" % round(moyenne, 2), xy=(0.525, moyenne+1), xytext=(-0.4, moyenne+5), arrowprops=dict(width=1, color=\"black\", headwidth=5, headlength=5))\n",
    "plt.show()"
   ]
  },
  {
   "cell_type": "markdown",
   "id": "16f17923",
   "metadata": {},
   "source": [
    "## Conclusion\n",
    "L'analyse effectuée entre le nombre moyen d'accidents par jour et les jours de la semaine démontre qu'il y a de plus en plus de collisions routières au fur et à mesure que la semaine avance, suivi par une importante diminution lors de la fin de semaine.\n",
    "\n",
    "À partir de ces informations, voici nos principales recommandations pour la ville de Montréal :\n",
    "- Pousser l'analyser afin de déterminer les causes principales de cette variation dans le nombre de collisions routières\n",
    "- Établir un plan d'action pour mieux prévenir les accidents lors des journées à risque\n",
    "- Répartir les ressources d'urgence dans la semaine afin d'avoir davantage d'ambulanciers et de policiers disponibles lors des journées à risque"
   ]
  }
 ],
 "metadata": {
  "kernelspec": {
   "display_name": "Python 3",
   "language": "python",
   "name": "python3"
  },
  "language_info": {
   "codemirror_mode": {
    "name": "ipython",
    "version": 3
   },
   "file_extension": ".py",
   "mimetype": "text/x-python",
   "name": "python",
   "nbconvert_exporter": "python",
   "pygments_lexer": "ipython3",
   "version": "3.9.1"
  }
 },
 "nbformat": 4,
 "nbformat_minor": 5
}
